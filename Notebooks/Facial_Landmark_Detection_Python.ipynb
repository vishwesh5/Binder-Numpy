{
 "cells": [
  {
   "cell_type": "code",
   "execution_count": null,
   "metadata": {},
   "outputs": [],
   "source": [
    "import cv2\n",
    "import dlib\n",
    "import numpy as np"
   ]
  },
  {
   "cell_type": "code",
   "execution_count": null,
   "metadata": {},
   "outputs": [],
   "source": [
    "def writeLandmarksToFile(landmarks, landmarksFileName):\n",
    "  with open(landmarksFileName, 'w') as f:\n",
    "    for p in landmarks.parts():\n",
    "      f.write(\"%s %s\\n\" %(int(p.x),int(p.y)))\n",
    "\n",
    "  f.close()"
   ]
  },
  {
   "cell_type": "code",
   "execution_count": null,
   "metadata": {},
   "outputs": [],
   "source": [
    "def drawLandmarks(im, landmarks):\n",
    "  for i, part in enumerate(landmarks.parts()):\n",
    "    px = int(part.x)\n",
    "    py = int(part.y)\n",
    "    cv2.circle(im, (px, py), 1, (0, 0, 255), thickness=2, lineType=cv2.LINE_AA)\n",
    "    cv2.putText(im, str(i+1), (px, py), cv2.FONT_HERSHEY_SIMPLEX, .3, (255, 0, 0), 1)"
   ]
  },
  {
   "cell_type": "code",
   "execution_count": null,
   "metadata": {},
   "outputs": [],
   "source": [
    "!wget https://www.dropbox.com/s/7ty70jdldvqioct/shape_predictor_68_face_landmarks.dat?dl=1 -O ../common/shape_predictor_68_face_landmarks.dat"
   ]
  },
  {
   "cell_type": "code",
   "execution_count": null,
   "metadata": {},
   "outputs": [],
   "source": [
    "# Landmark model location\n",
    "PREDICTOR_PATH = \"../../common/shape_predictor_68_face_landmarks.dat\""
   ]
  },
  {
   "cell_type": "code",
   "execution_count": null,
   "metadata": {},
   "outputs": [],
   "source": [
    "# Get the face detector\n",
    "faceDetector = dlib.get_frontal_face_detector()"
   ]
  },
  {
   "cell_type": "code",
   "execution_count": null,
   "metadata": {},
   "outputs": [],
   "source": [
    "# The landmark detector is implemented in the shape_predictor class\n",
    "landmarkDetector = dlib.shape_predictor(PREDICTOR_PATH)"
   ]
  },
  {
   "cell_type": "code",
   "execution_count": null,
   "metadata": {},
   "outputs": [],
   "source": [
    "# Read image\n",
    "imageFilename = \"../data/girl.jpg\"\n",
    "im = cv2.imread(imageFilename)\n",
    "# landmarks will be stored in results/family_i.txt\n",
    "landmarksBasename = \"output\""
   ]
  },
  {
   "cell_type": "code",
   "execution_count": null,
   "metadata": {},
   "outputs": [],
   "source": [
    "# Detect faces in the image\n",
    "faceRects = faceDetector(im, 0)\n",
    "print(\"Number of faces detected: \",len(faceRects))"
   ]
  },
  {
   "cell_type": "code",
   "execution_count": null,
   "metadata": {},
   "outputs": [],
   "source": [
    "# List to store landmarks of all detected faces\n",
    "landmarksAll = []"
   ]
  },
  {
   "cell_type": "code",
   "execution_count": null,
   "metadata": {},
   "outputs": [],
   "source": [
    "# Loop over all detected face rectangles\n",
    "for i in range(0, len(faceRects)):\n",
    "  newRect = dlib.rectangle(int(faceRects[i].left()),int(faceRects[i].top()),\n",
    "      int(faceRects[i].right()),int(faceRects[i].bottom()))\n",
    "\n",
    "  # For every face rectangle, run landmarkDetector\n",
    "  landmarks = landmarkDetector(im, newRect)\n",
    "  # Print number of landmarks\n",
    "  if i==0:\n",
    "    print(\"Number of landmarks\",len(landmarks.parts()))\n",
    "\n",
    "  # Store landmarks for current face\n",
    "  landmarksAll.append(landmarks)\n",
    "  # Draw landmarks on face\n",
    "  drawLandmarks(im, landmarks)\n",
    "\n",
    "  landmarksFileName = landmarksBasename +\"_\"+ str(i)+ \".txt\"\n",
    "  print(\"Saving landmarks to\", landmarksFileName)\n",
    "  # Write landmarks to disk\n",
    "  writeLandmarksToFile(landmarks, landmarksFileName)"
   ]
  },
  {
   "cell_type": "code",
   "execution_count": null,
   "metadata": {},
   "outputs": [],
   "source": [
    "outputFileName = \"result_Landmarks.jpg\"\n",
    "print(\"Saving output image to\", outputFileName)\n",
    "cv2.imwrite(outputFileName, im)"
   ]
  }
 ],
 "metadata": {
  "kernelspec": {
   "display_name": "Python 3",
   "language": "python",
   "name": "python3"
  },
  "language_info": {
   "codemirror_mode": {
    "name": "ipython",
    "version": 3
   },
   "file_extension": ".py",
   "mimetype": "text/x-python",
   "name": "python",
   "nbconvert_exporter": "python",
   "pygments_lexer": "ipython3",
   "version": "3.6.4"
  }
 },
 "nbformat": 4,
 "nbformat_minor": 2
}
